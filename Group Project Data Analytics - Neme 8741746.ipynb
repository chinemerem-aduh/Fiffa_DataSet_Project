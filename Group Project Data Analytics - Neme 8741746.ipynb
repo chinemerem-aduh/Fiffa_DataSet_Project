{
 "cells": [
  {
   "cell_type": "markdown",
   "id": "134fe549",
   "metadata": {},
   "source": [
    "### Name - Chinemerem Aduh\n",
    "### Entry Number - 8741746"
   ]
  },
  {
   "cell_type": "markdown",
   "id": "4b927a0a",
   "metadata": {},
   "source": [
    "# Importing various packages for the project"
   ]
  },
  {
   "cell_type": "code",
   "execution_count": 1,
   "id": "798acbe7",
   "metadata": {},
   "outputs": [],
   "source": [
    "#Import Libraries\n",
    "import pandas as pd\n",
    "import numpy as np\n",
    "#Visual Libraries\n",
    "import seaborn as sns\n",
    "import matplotlib.pyplot as plt"
   ]
  },
  {
   "cell_type": "code",
   "execution_count": 2,
   "id": "559037e0",
   "metadata": {},
   "outputs": [],
   "source": [
    "#Load the Dataset\n",
    "fifa = pd.read_csv(r'C:\\Users\\aduhk\\Desktop\\Python file practice\\fifa_cleaned.csv')\n",
    "#Remove unwanted columns\n",
    "fifa.drop(columns = ['tags','traits','LS','ST','RS','LW','LF','CF','RF','RW','LAM','CAM','RAM','LM','LCM','CM','RCM','RM','LWB','LDM','CDM','RDM','RWB','LB','LCB','CB','RCB','RB'], inplace = True)"
   ]
  },
  {
   "cell_type": "code",
   "execution_count": 3,
   "id": "3fdf7f55",
   "metadata": {},
   "outputs": [
    {
     "data": {
      "text/html": [
       "<div>\n",
       "<style scoped>\n",
       "    .dataframe tbody tr th:only-of-type {\n",
       "        vertical-align: middle;\n",
       "    }\n",
       "\n",
       "    .dataframe tbody tr th {\n",
       "        vertical-align: top;\n",
       "    }\n",
       "\n",
       "    .dataframe thead th {\n",
       "        text-align: right;\n",
       "    }\n",
       "</style>\n",
       "<table border=\"1\" class=\"dataframe\">\n",
       "  <thead>\n",
       "    <tr style=\"text-align: right;\">\n",
       "      <th></th>\n",
       "      <th>id</th>\n",
       "      <th>name</th>\n",
       "      <th>full_name</th>\n",
       "      <th>birth_date</th>\n",
       "      <th>age</th>\n",
       "      <th>height_cm</th>\n",
       "      <th>weight_kgs</th>\n",
       "      <th>positions</th>\n",
       "      <th>nationality</th>\n",
       "      <th>overall_rating</th>\n",
       "      <th>...</th>\n",
       "      <th>penalties</th>\n",
       "      <th>composure</th>\n",
       "      <th>marking</th>\n",
       "      <th>standing_tackle</th>\n",
       "      <th>sliding_tackle</th>\n",
       "      <th>GK_diving</th>\n",
       "      <th>GK_handling</th>\n",
       "      <th>GK_kicking</th>\n",
       "      <th>GK_positioning</th>\n",
       "      <th>GK_reflexes</th>\n",
       "    </tr>\n",
       "  </thead>\n",
       "  <tbody>\n",
       "    <tr>\n",
       "      <th>0</th>\n",
       "      <td>158023</td>\n",
       "      <td>L. Messi</td>\n",
       "      <td>Lionel Andrés Messi Cuccittini</td>\n",
       "      <td>1987-06-24</td>\n",
       "      <td>31</td>\n",
       "      <td>170.18</td>\n",
       "      <td>72.1</td>\n",
       "      <td>CF,RW,ST</td>\n",
       "      <td>Argentina</td>\n",
       "      <td>94</td>\n",
       "      <td>...</td>\n",
       "      <td>75</td>\n",
       "      <td>96</td>\n",
       "      <td>33</td>\n",
       "      <td>28</td>\n",
       "      <td>26</td>\n",
       "      <td>6</td>\n",
       "      <td>11</td>\n",
       "      <td>15</td>\n",
       "      <td>14</td>\n",
       "      <td>8</td>\n",
       "    </tr>\n",
       "    <tr>\n",
       "      <th>1</th>\n",
       "      <td>190460</td>\n",
       "      <td>C. Eriksen</td>\n",
       "      <td>Christian  Dannemann Eriksen</td>\n",
       "      <td>1992-02-14</td>\n",
       "      <td>27</td>\n",
       "      <td>154.94</td>\n",
       "      <td>76.2</td>\n",
       "      <td>CAM,RM,CM</td>\n",
       "      <td>Denmark</td>\n",
       "      <td>88</td>\n",
       "      <td>...</td>\n",
       "      <td>67</td>\n",
       "      <td>88</td>\n",
       "      <td>59</td>\n",
       "      <td>57</td>\n",
       "      <td>22</td>\n",
       "      <td>9</td>\n",
       "      <td>14</td>\n",
       "      <td>7</td>\n",
       "      <td>7</td>\n",
       "      <td>6</td>\n",
       "    </tr>\n",
       "    <tr>\n",
       "      <th>2</th>\n",
       "      <td>195864</td>\n",
       "      <td>P. Pogba</td>\n",
       "      <td>Paul Pogba</td>\n",
       "      <td>1993-03-15</td>\n",
       "      <td>25</td>\n",
       "      <td>190.50</td>\n",
       "      <td>83.9</td>\n",
       "      <td>CM,CAM</td>\n",
       "      <td>France</td>\n",
       "      <td>88</td>\n",
       "      <td>...</td>\n",
       "      <td>82</td>\n",
       "      <td>87</td>\n",
       "      <td>63</td>\n",
       "      <td>67</td>\n",
       "      <td>67</td>\n",
       "      <td>5</td>\n",
       "      <td>6</td>\n",
       "      <td>2</td>\n",
       "      <td>4</td>\n",
       "      <td>3</td>\n",
       "    </tr>\n",
       "    <tr>\n",
       "      <th>3</th>\n",
       "      <td>198219</td>\n",
       "      <td>L. Insigne</td>\n",
       "      <td>Lorenzo Insigne</td>\n",
       "      <td>1991-06-04</td>\n",
       "      <td>27</td>\n",
       "      <td>162.56</td>\n",
       "      <td>59.0</td>\n",
       "      <td>LW,ST</td>\n",
       "      <td>Italy</td>\n",
       "      <td>88</td>\n",
       "      <td>...</td>\n",
       "      <td>61</td>\n",
       "      <td>83</td>\n",
       "      <td>51</td>\n",
       "      <td>24</td>\n",
       "      <td>22</td>\n",
       "      <td>8</td>\n",
       "      <td>4</td>\n",
       "      <td>14</td>\n",
       "      <td>9</td>\n",
       "      <td>10</td>\n",
       "    </tr>\n",
       "    <tr>\n",
       "      <th>4</th>\n",
       "      <td>201024</td>\n",
       "      <td>K. Koulibaly</td>\n",
       "      <td>Kalidou Koulibaly</td>\n",
       "      <td>1991-06-20</td>\n",
       "      <td>27</td>\n",
       "      <td>187.96</td>\n",
       "      <td>88.9</td>\n",
       "      <td>CB</td>\n",
       "      <td>Senegal</td>\n",
       "      <td>88</td>\n",
       "      <td>...</td>\n",
       "      <td>33</td>\n",
       "      <td>80</td>\n",
       "      <td>91</td>\n",
       "      <td>88</td>\n",
       "      <td>87</td>\n",
       "      <td>7</td>\n",
       "      <td>11</td>\n",
       "      <td>7</td>\n",
       "      <td>13</td>\n",
       "      <td>5</td>\n",
       "    </tr>\n",
       "  </tbody>\n",
       "</table>\n",
       "<p>5 rows × 64 columns</p>\n",
       "</div>"
      ],
      "text/plain": [
       "       id          name                       full_name  birth_date  age  \\\n",
       "0  158023      L. Messi  Lionel Andrés Messi Cuccittini  1987-06-24   31   \n",
       "1  190460    C. Eriksen    Christian  Dannemann Eriksen  1992-02-14   27   \n",
       "2  195864      P. Pogba                      Paul Pogba  1993-03-15   25   \n",
       "3  198219    L. Insigne                 Lorenzo Insigne  1991-06-04   27   \n",
       "4  201024  K. Koulibaly               Kalidou Koulibaly  1991-06-20   27   \n",
       "\n",
       "   height_cm  weight_kgs  positions nationality  overall_rating  ...  \\\n",
       "0     170.18        72.1   CF,RW,ST   Argentina              94  ...   \n",
       "1     154.94        76.2  CAM,RM,CM     Denmark              88  ...   \n",
       "2     190.50        83.9     CM,CAM      France              88  ...   \n",
       "3     162.56        59.0      LW,ST       Italy              88  ...   \n",
       "4     187.96        88.9         CB     Senegal              88  ...   \n",
       "\n",
       "   penalties  composure  marking standing_tackle  sliding_tackle  GK_diving  \\\n",
       "0         75         96       33              28              26          6   \n",
       "1         67         88       59              57              22          9   \n",
       "2         82         87       63              67              67          5   \n",
       "3         61         83       51              24              22          8   \n",
       "4         33         80       91              88              87          7   \n",
       "\n",
       "   GK_handling GK_kicking GK_positioning  GK_reflexes  \n",
       "0           11         15             14            8  \n",
       "1           14          7              7            6  \n",
       "2            6          2              4            3  \n",
       "3            4         14              9           10  \n",
       "4           11          7             13            5  \n",
       "\n",
       "[5 rows x 64 columns]"
      ]
     },
     "execution_count": 3,
     "metadata": {},
     "output_type": "execute_result"
    }
   ],
   "source": [
    "# show head of the data\n",
    "fifa.head()"
   ]
  },
  {
   "cell_type": "code",
   "execution_count": 30,
   "id": "ad4335ef",
   "metadata": {},
   "outputs": [
    {
     "data": {
      "text/plain": [
       "Index(['id', 'name', 'full_name', 'birth_date', 'age', 'height_cm',\n",
       "       'weight_kgs', 'positions', 'nationality', 'overall_rating', 'potential',\n",
       "       'value_euro', 'wage_euro', 'preferred_foot',\n",
       "       'international_reputation(1-5)', 'weak_foot(1-5)', 'skill_moves(1-5)',\n",
       "       'work_rate', 'body_type', 'release_clause_euro', 'club_team',\n",
       "       'club_rating', 'club_position', 'club_jersey_number', 'club_join_date',\n",
       "       'contract_end_year', 'national_team', 'national_rating',\n",
       "       'national_team_position', 'national_jersey_number', 'crossing',\n",
       "       'finishing', 'heading_accuracy', 'short_passing', 'volleys',\n",
       "       'dribbling', 'curve', 'freekick_accuracy', 'long_passing',\n",
       "       'ball_control', 'acceleration', 'sprint_speed', 'agility', 'reactions',\n",
       "       'balance', 'shot_power', 'jumping', 'stamina', 'strength', 'long_shots',\n",
       "       'aggression', 'interceptions', 'positioning', 'vision', 'penalties',\n",
       "       'composure', 'marking', 'standing_tackle', 'sliding_tackle',\n",
       "       'GK_diving', 'GK_handling', 'GK_kicking', 'GK_positioning',\n",
       "       'GK_reflexes'],\n",
       "      dtype='object')"
      ]
     },
     "execution_count": 30,
     "metadata": {},
     "output_type": "execute_result"
    }
   ],
   "source": [
    "# show data columns name \n",
    "fifa.columns"
   ]
  },
  {
   "cell_type": "markdown",
   "id": "3fcb9ac0",
   "metadata": {},
   "source": [
    "# Understanding the data "
   ]
  },
  {
   "cell_type": "code",
   "execution_count": 4,
   "id": "265db9d8",
   "metadata": {},
   "outputs": [
    {
     "data": {
      "text/plain": [
       "<bound method NDFrame.describe of            id            name                         full_name  birth_date  \\\n",
       "0      158023        L. Messi    Lionel Andrés Messi Cuccittini  1987-06-24   \n",
       "1      190460      C. Eriksen      Christian  Dannemann Eriksen  1992-02-14   \n",
       "2      195864        P. Pogba                        Paul Pogba  1993-03-15   \n",
       "3      198219      L. Insigne                   Lorenzo Insigne  1991-06-04   \n",
       "4      201024    K. Koulibaly                 Kalidou Koulibaly  1991-06-20   \n",
       "...       ...             ...                               ...         ...   \n",
       "17949  204322     R. McKenzie                    Rory  McKenzie  1993-10-07   \n",
       "17950  239762       M. Sipľak                     Michal Sipľak  1996-02-02   \n",
       "17951  235155      J. Bekkema                       Jan Bekkema  1996-04-09   \n",
       "17952  244883      A. Al Yami               Abdulrahman Al Yami  1997-06-19   \n",
       "17953  247187  Júnior Brumado  José Francisco dos Santos Júnior  1999-05-15   \n",
       "\n",
       "       age  height_cm  weight_kgs  positions   nationality  overall_rating  \\\n",
       "0       31     170.18        72.1   CF,RW,ST     Argentina              94   \n",
       "1       27     154.94        76.2  CAM,RM,CM       Denmark              88   \n",
       "2       25     190.50        83.9     CM,CAM        France              88   \n",
       "3       27     162.56        59.0      LW,ST         Italy              88   \n",
       "4       27     187.96        88.9         CB       Senegal              88   \n",
       "...    ...        ...         ...        ...           ...             ...   \n",
       "17949   25     175.26        74.8  RM,CAM,CM      Scotland              67   \n",
       "17950   23     182.88        79.8         LB      Slovakia              59   \n",
       "17951   22     185.42        89.8         GK   Netherlands              59   \n",
       "17952   21     175.26        64.9      ST,LM  Saudi Arabia              59   \n",
       "17953   19     190.50        79.8         ST        Brazil              59   \n",
       "\n",
       "       ...  penalties  composure  marking standing_tackle  sliding_tackle  \\\n",
       "0      ...         75         96       33              28              26   \n",
       "1      ...         67         88       59              57              22   \n",
       "2      ...         82         87       63              67              67   \n",
       "3      ...         61         83       51              24              22   \n",
       "4      ...         33         80       91              88              87   \n",
       "...    ...        ...        ...      ...             ...             ...   \n",
       "17949  ...         63         56       40              20              18   \n",
       "17950  ...         32         52       53              64              60   \n",
       "17951  ...         16         47        9              12              13   \n",
       "17952  ...         50         53       16              18              17   \n",
       "17953  ...         52         45       23              31              21   \n",
       "\n",
       "       GK_diving  GK_handling GK_kicking GK_positioning  GK_reflexes  \n",
       "0              6           11         15             14            8  \n",
       "1              9           14          7              7            6  \n",
       "2              5            6          2              4            3  \n",
       "3              8            4         14              9           10  \n",
       "4              7           11          7             13            5  \n",
       "...          ...          ...        ...            ...          ...  \n",
       "17949         15           11         15             12            7  \n",
       "17950         15            7          7             15            8  \n",
       "17951         63           57         50             58           63  \n",
       "17952         15           14         12              6            9  \n",
       "17953          9           14         12             13           14  \n",
       "\n",
       "[17954 rows x 64 columns]>"
      ]
     },
     "execution_count": 4,
     "metadata": {},
     "output_type": "execute_result"
    }
   ],
   "source": [
    "# describing data\n",
    "fifa.describe"
   ]
  },
  {
   "cell_type": "code",
   "execution_count": 5,
   "id": "6cc9e786",
   "metadata": {},
   "outputs": [
    {
     "name": "stdout",
     "output_type": "stream",
     "text": [
      "<class 'pandas.core.frame.DataFrame'>\n",
      "RangeIndex: 17954 entries, 0 to 17953\n",
      "Data columns (total 64 columns):\n",
      " #   Column                         Non-Null Count  Dtype  \n",
      "---  ------                         --------------  -----  \n",
      " 0   id                             17954 non-null  int64  \n",
      " 1   name                           17954 non-null  object \n",
      " 2   full_name                      17954 non-null  object \n",
      " 3   birth_date                     17954 non-null  object \n",
      " 4   age                            17954 non-null  int64  \n",
      " 5   height_cm                      17954 non-null  float64\n",
      " 6   weight_kgs                     17954 non-null  float64\n",
      " 7   positions                      17954 non-null  object \n",
      " 8   nationality                    17954 non-null  object \n",
      " 9   overall_rating                 17954 non-null  int64  \n",
      " 10  potential                      17954 non-null  int64  \n",
      " 11  value_euro                     17699 non-null  float64\n",
      " 12  wage_euro                      17708 non-null  float64\n",
      " 13  preferred_foot                 17954 non-null  object \n",
      " 14  international_reputation(1-5)  17954 non-null  int64  \n",
      " 15  weak_foot(1-5)                 17954 non-null  int64  \n",
      " 16  skill_moves(1-5)               17954 non-null  int64  \n",
      " 17  work_rate                      17954 non-null  object \n",
      " 18  body_type                      17954 non-null  object \n",
      " 19  release_clause_euro            16117 non-null  float64\n",
      " 20  club_team                      17940 non-null  object \n",
      " 21  club_rating                    17940 non-null  float64\n",
      " 22  club_position                  17940 non-null  object \n",
      " 23  club_jersey_number             17940 non-null  float64\n",
      " 24  club_join_date                 16018 non-null  object \n",
      " 25  contract_end_year              17593 non-null  object \n",
      " 26  national_team                  857 non-null    object \n",
      " 27  national_rating                857 non-null    float64\n",
      " 28  national_team_position         857 non-null    object \n",
      " 29  national_jersey_number         857 non-null    float64\n",
      " 30  crossing                       17954 non-null  int64  \n",
      " 31  finishing                      17954 non-null  int64  \n",
      " 32  heading_accuracy               17954 non-null  int64  \n",
      " 33  short_passing                  17954 non-null  int64  \n",
      " 34  volleys                        17954 non-null  int64  \n",
      " 35  dribbling                      17954 non-null  int64  \n",
      " 36  curve                          17954 non-null  int64  \n",
      " 37  freekick_accuracy              17954 non-null  int64  \n",
      " 38  long_passing                   17954 non-null  int64  \n",
      " 39  ball_control                   17954 non-null  int64  \n",
      " 40  acceleration                   17954 non-null  int64  \n",
      " 41  sprint_speed                   17954 non-null  int64  \n",
      " 42  agility                        17954 non-null  int64  \n",
      " 43  reactions                      17954 non-null  int64  \n",
      " 44  balance                        17954 non-null  int64  \n",
      " 45  shot_power                     17954 non-null  int64  \n",
      " 46  jumping                        17954 non-null  int64  \n",
      " 47  stamina                        17954 non-null  int64  \n",
      " 48  strength                       17954 non-null  int64  \n",
      " 49  long_shots                     17954 non-null  int64  \n",
      " 50  aggression                     17954 non-null  int64  \n",
      " 51  interceptions                  17954 non-null  int64  \n",
      " 52  positioning                    17954 non-null  int64  \n",
      " 53  vision                         17954 non-null  int64  \n",
      " 54  penalties                      17954 non-null  int64  \n",
      " 55  composure                      17954 non-null  int64  \n",
      " 56  marking                        17954 non-null  int64  \n",
      " 57  standing_tackle                17954 non-null  int64  \n",
      " 58  sliding_tackle                 17954 non-null  int64  \n",
      " 59  GK_diving                      17954 non-null  int64  \n",
      " 60  GK_handling                    17954 non-null  int64  \n",
      " 61  GK_kicking                     17954 non-null  int64  \n",
      " 62  GK_positioning                 17954 non-null  int64  \n",
      " 63  GK_reflexes                    17954 non-null  int64  \n",
      "dtypes: float64(9), int64(41), object(14)\n",
      "memory usage: 8.8+ MB\n"
     ]
    }
   ],
   "source": [
    "# info \n",
    "fifa.info()"
   ]
  },
  {
   "cell_type": "markdown",
   "id": "514d6d98",
   "metadata": {},
   "source": [
    "# Project Insights"
   ]
  },
  {
   "cell_type": "markdown",
   "id": "cb307687",
   "metadata": {},
   "source": [
    "## 1) Which players have player ratings over 90?"
   ]
  },
  {
   "cell_type": "code",
   "execution_count": 6,
   "id": "0690349d",
   "metadata": {},
   "outputs": [
    {
     "data": {
      "text/html": [
       "<div>\n",
       "<style scoped>\n",
       "    .dataframe tbody tr th:only-of-type {\n",
       "        vertical-align: middle;\n",
       "    }\n",
       "\n",
       "    .dataframe tbody tr th {\n",
       "        vertical-align: top;\n",
       "    }\n",
       "\n",
       "    .dataframe thead th {\n",
       "        text-align: right;\n",
       "    }\n",
       "</style>\n",
       "<table border=\"1\" class=\"dataframe\">\n",
       "  <thead>\n",
       "    <tr style=\"text-align: right;\">\n",
       "      <th></th>\n",
       "      <th>id</th>\n",
       "      <th>name</th>\n",
       "      <th>full_name</th>\n",
       "      <th>birth_date</th>\n",
       "      <th>age</th>\n",
       "      <th>height_cm</th>\n",
       "      <th>weight_kgs</th>\n",
       "      <th>positions</th>\n",
       "      <th>nationality</th>\n",
       "      <th>overall_rating</th>\n",
       "      <th>...</th>\n",
       "      <th>penalties</th>\n",
       "      <th>composure</th>\n",
       "      <th>marking</th>\n",
       "      <th>standing_tackle</th>\n",
       "      <th>sliding_tackle</th>\n",
       "      <th>GK_diving</th>\n",
       "      <th>GK_handling</th>\n",
       "      <th>GK_kicking</th>\n",
       "      <th>GK_positioning</th>\n",
       "      <th>GK_reflexes</th>\n",
       "    </tr>\n",
       "  </thead>\n",
       "  <tbody>\n",
       "    <tr>\n",
       "      <th>0</th>\n",
       "      <td>158023</td>\n",
       "      <td>L. Messi</td>\n",
       "      <td>Lionel Andrés Messi Cuccittini</td>\n",
       "      <td>1987-06-24</td>\n",
       "      <td>31</td>\n",
       "      <td>170.18</td>\n",
       "      <td>72.1</td>\n",
       "      <td>CF,RW,ST</td>\n",
       "      <td>Argentina</td>\n",
       "      <td>94</td>\n",
       "      <td>...</td>\n",
       "      <td>75</td>\n",
       "      <td>96</td>\n",
       "      <td>33</td>\n",
       "      <td>28</td>\n",
       "      <td>26</td>\n",
       "      <td>6</td>\n",
       "      <td>11</td>\n",
       "      <td>15</td>\n",
       "      <td>14</td>\n",
       "      <td>8</td>\n",
       "    </tr>\n",
       "    <tr>\n",
       "      <th>17938</th>\n",
       "      <td>176580</td>\n",
       "      <td>L. Suárez</td>\n",
       "      <td>Luis Alberto Suárez Díaz</td>\n",
       "      <td>1987-01-24</td>\n",
       "      <td>32</td>\n",
       "      <td>182.88</td>\n",
       "      <td>86.2</td>\n",
       "      <td>ST</td>\n",
       "      <td>Uruguay</td>\n",
       "      <td>91</td>\n",
       "      <td>...</td>\n",
       "      <td>85</td>\n",
       "      <td>85</td>\n",
       "      <td>62</td>\n",
       "      <td>45</td>\n",
       "      <td>38</td>\n",
       "      <td>27</td>\n",
       "      <td>25</td>\n",
       "      <td>31</td>\n",
       "      <td>33</td>\n",
       "      <td>37</td>\n",
       "    </tr>\n",
       "    <tr>\n",
       "      <th>17939</th>\n",
       "      <td>177003</td>\n",
       "      <td>L. Modrić</td>\n",
       "      <td>Luka Modrić</td>\n",
       "      <td>1985-09-09</td>\n",
       "      <td>33</td>\n",
       "      <td>172.72</td>\n",
       "      <td>66.2</td>\n",
       "      <td>CM</td>\n",
       "      <td>Croatia</td>\n",
       "      <td>91</td>\n",
       "      <td>...</td>\n",
       "      <td>82</td>\n",
       "      <td>90</td>\n",
       "      <td>68</td>\n",
       "      <td>76</td>\n",
       "      <td>73</td>\n",
       "      <td>13</td>\n",
       "      <td>9</td>\n",
       "      <td>7</td>\n",
       "      <td>14</td>\n",
       "      <td>9</td>\n",
       "    </tr>\n",
       "    <tr>\n",
       "      <th>17940</th>\n",
       "      <td>183277</td>\n",
       "      <td>E. Hazard</td>\n",
       "      <td>Eden Hazard</td>\n",
       "      <td>1991-01-07</td>\n",
       "      <td>28</td>\n",
       "      <td>172.72</td>\n",
       "      <td>76.2</td>\n",
       "      <td>LW,CF</td>\n",
       "      <td>Belgium</td>\n",
       "      <td>91</td>\n",
       "      <td>...</td>\n",
       "      <td>86</td>\n",
       "      <td>91</td>\n",
       "      <td>34</td>\n",
       "      <td>27</td>\n",
       "      <td>22</td>\n",
       "      <td>11</td>\n",
       "      <td>12</td>\n",
       "      <td>6</td>\n",
       "      <td>8</td>\n",
       "      <td>8</td>\n",
       "    </tr>\n",
       "    <tr>\n",
       "      <th>17941</th>\n",
       "      <td>192985</td>\n",
       "      <td>K. De Bruyne</td>\n",
       "      <td>Kevin De Bruyne</td>\n",
       "      <td>1991-06-28</td>\n",
       "      <td>27</td>\n",
       "      <td>154.94</td>\n",
       "      <td>69.9</td>\n",
       "      <td>CAM,CM</td>\n",
       "      <td>Belgium</td>\n",
       "      <td>91</td>\n",
       "      <td>...</td>\n",
       "      <td>79</td>\n",
       "      <td>90</td>\n",
       "      <td>68</td>\n",
       "      <td>58</td>\n",
       "      <td>51</td>\n",
       "      <td>15</td>\n",
       "      <td>13</td>\n",
       "      <td>5</td>\n",
       "      <td>10</td>\n",
       "      <td>13</td>\n",
       "    </tr>\n",
       "    <tr>\n",
       "      <th>17942</th>\n",
       "      <td>193080</td>\n",
       "      <td>De Gea</td>\n",
       "      <td>David De Gea Quintana</td>\n",
       "      <td>1990-11-07</td>\n",
       "      <td>28</td>\n",
       "      <td>193.04</td>\n",
       "      <td>76.2</td>\n",
       "      <td>GK</td>\n",
       "      <td>Spain</td>\n",
       "      <td>91</td>\n",
       "      <td>...</td>\n",
       "      <td>40</td>\n",
       "      <td>70</td>\n",
       "      <td>25</td>\n",
       "      <td>21</td>\n",
       "      <td>13</td>\n",
       "      <td>90</td>\n",
       "      <td>85</td>\n",
       "      <td>85</td>\n",
       "      <td>89</td>\n",
       "      <td>94</td>\n",
       "    </tr>\n",
       "    <tr>\n",
       "      <th>17943</th>\n",
       "      <td>190871</td>\n",
       "      <td>Neymar Jr</td>\n",
       "      <td>Neymar da Silva Santos Junior</td>\n",
       "      <td>1992-02-05</td>\n",
       "      <td>27</td>\n",
       "      <td>175.26</td>\n",
       "      <td>68.0</td>\n",
       "      <td>LW,CAM</td>\n",
       "      <td>Brazil</td>\n",
       "      <td>92</td>\n",
       "      <td>...</td>\n",
       "      <td>81</td>\n",
       "      <td>94</td>\n",
       "      <td>27</td>\n",
       "      <td>24</td>\n",
       "      <td>33</td>\n",
       "      <td>9</td>\n",
       "      <td>9</td>\n",
       "      <td>15</td>\n",
       "      <td>15</td>\n",
       "      <td>11</td>\n",
       "    </tr>\n",
       "    <tr>\n",
       "      <th>17944</th>\n",
       "      <td>20801</td>\n",
       "      <td>Cristiano Ronaldo</td>\n",
       "      <td>Cristiano Ronaldo dos Santos Aveiro</td>\n",
       "      <td>1985-02-05</td>\n",
       "      <td>34</td>\n",
       "      <td>187.96</td>\n",
       "      <td>83.0</td>\n",
       "      <td>ST,LW</td>\n",
       "      <td>Portugal</td>\n",
       "      <td>94</td>\n",
       "      <td>...</td>\n",
       "      <td>85</td>\n",
       "      <td>95</td>\n",
       "      <td>28</td>\n",
       "      <td>31</td>\n",
       "      <td>23</td>\n",
       "      <td>7</td>\n",
       "      <td>11</td>\n",
       "      <td>15</td>\n",
       "      <td>14</td>\n",
       "      <td>11</td>\n",
       "    </tr>\n",
       "  </tbody>\n",
       "</table>\n",
       "<p>8 rows × 64 columns</p>\n",
       "</div>"
      ],
      "text/plain": [
       "           id               name                            full_name  \\\n",
       "0      158023           L. Messi       Lionel Andrés Messi Cuccittini   \n",
       "17938  176580          L. Suárez             Luis Alberto Suárez Díaz   \n",
       "17939  177003          L. Modrić                          Luka Modrić   \n",
       "17940  183277          E. Hazard                          Eden Hazard   \n",
       "17941  192985       K. De Bruyne                      Kevin De Bruyne   \n",
       "17942  193080             De Gea                David De Gea Quintana   \n",
       "17943  190871          Neymar Jr        Neymar da Silva Santos Junior   \n",
       "17944   20801  Cristiano Ronaldo  Cristiano Ronaldo dos Santos Aveiro   \n",
       "\n",
       "       birth_date  age  height_cm  weight_kgs positions nationality  \\\n",
       "0      1987-06-24   31     170.18        72.1  CF,RW,ST   Argentina   \n",
       "17938  1987-01-24   32     182.88        86.2        ST     Uruguay   \n",
       "17939  1985-09-09   33     172.72        66.2        CM     Croatia   \n",
       "17940  1991-01-07   28     172.72        76.2     LW,CF     Belgium   \n",
       "17941  1991-06-28   27     154.94        69.9    CAM,CM     Belgium   \n",
       "17942  1990-11-07   28     193.04        76.2        GK       Spain   \n",
       "17943  1992-02-05   27     175.26        68.0    LW,CAM      Brazil   \n",
       "17944  1985-02-05   34     187.96        83.0     ST,LW    Portugal   \n",
       "\n",
       "       overall_rating  ...  penalties  composure  marking standing_tackle  \\\n",
       "0                  94  ...         75         96       33              28   \n",
       "17938              91  ...         85         85       62              45   \n",
       "17939              91  ...         82         90       68              76   \n",
       "17940              91  ...         86         91       34              27   \n",
       "17941              91  ...         79         90       68              58   \n",
       "17942              91  ...         40         70       25              21   \n",
       "17943              92  ...         81         94       27              24   \n",
       "17944              94  ...         85         95       28              31   \n",
       "\n",
       "       sliding_tackle  GK_diving  GK_handling GK_kicking GK_positioning  \\\n",
       "0                  26          6           11         15             14   \n",
       "17938              38         27           25         31             33   \n",
       "17939              73         13            9          7             14   \n",
       "17940              22         11           12          6              8   \n",
       "17941              51         15           13          5             10   \n",
       "17942              13         90           85         85             89   \n",
       "17943              33          9            9         15             15   \n",
       "17944              23          7           11         15             14   \n",
       "\n",
       "       GK_reflexes  \n",
       "0                8  \n",
       "17938           37  \n",
       "17939            9  \n",
       "17940            8  \n",
       "17941           13  \n",
       "17942           94  \n",
       "17943           11  \n",
       "17944           11  \n",
       "\n",
       "[8 rows x 64 columns]"
      ]
     },
     "execution_count": 6,
     "metadata": {},
     "output_type": "execute_result"
    }
   ],
   "source": [
    "fifa.loc[(fifa[\"overall_rating\"] > 90 )]"
   ]
  },
  {
   "cell_type": "markdown",
   "id": "c03ebba8",
   "metadata": {},
   "source": [
    "## 2) How many players are not from Spain?"
   ]
  },
  {
   "cell_type": "code",
   "execution_count": 7,
   "id": "6515ea32",
   "metadata": {},
   "outputs": [
    {
     "data": {
      "text/plain": [
       "array([16884])"
      ]
     },
     "execution_count": 7,
     "metadata": {},
     "output_type": "execute_result"
    }
   ],
   "source": [
    "fifa[\"nationality\"].value_counts().sum() - fifa.loc[fifa['nationality'] == 'Spain', 'id'].shape"
   ]
  },
  {
   "cell_type": "code",
   "execution_count": 8,
   "id": "d66b740d",
   "metadata": {},
   "outputs": [
    {
     "data": {
      "text/plain": [
       "16884"
      ]
     },
     "execution_count": 8,
     "metadata": {},
     "output_type": "execute_result"
    }
   ],
   "source": [
    "fifa.loc[fifa['nationality'] != 'Spain' , 'id'].nunique()"
   ]
  },
  {
   "cell_type": "markdown",
   "id": "3c360aaa",
   "metadata": {},
   "source": [
    "## 3) Proportion of players from Nigeria?"
   ]
  },
  {
   "cell_type": "code",
   "execution_count": 9,
   "id": "454b9adf",
   "metadata": {},
   "outputs": [
    {
     "data": {
      "text/plain": [
       "0.6906538932828339"
      ]
     },
     "execution_count": 9,
     "metadata": {},
     "output_type": "execute_result"
    }
   ],
   "source": [
    "(fifa.loc[(fifa['nationality'] == \"Nigeria\"), 'id'].nunique() / fifa['id'].nunique()) * 100"
   ]
  },
  {
   "cell_type": "code",
   "execution_count": 8,
   "id": "08b32faf",
   "metadata": {},
   "outputs": [
    {
     "data": {
      "text/plain": [
       "True      0.690654\n",
       "False    99.309346\n",
       "Name: nationality, dtype: float64"
      ]
     },
     "execution_count": 8,
     "metadata": {},
     "output_type": "execute_result"
    }
   ],
   "source": [
    "(fifa['nationality'] == 'Nigeria').value_counts( normalize = True, ascending = True ) * 100"
   ]
  },
  {
   "cell_type": "markdown",
   "id": "1d5bea0b",
   "metadata": {},
   "source": [
    "### 4) How Many goalkeepers are there in this dataset?"
   ]
  },
  {
   "cell_type": "code",
   "execution_count": 10,
   "id": "74765abe",
   "metadata": {},
   "outputs": [
    {
     "data": {
      "text/plain": [
       "2065"
      ]
     },
     "execution_count": 10,
     "metadata": {},
     "output_type": "execute_result"
    }
   ],
   "source": [
    "fifa.loc[fifa['positions'] == 'GK', 'id'].nunique()"
   ]
  },
  {
   "cell_type": "code",
   "execution_count": 11,
   "id": "9f968ecd",
   "metadata": {},
   "outputs": [
    {
     "data": {
      "text/plain": [
       "False    15889\n",
       "True      2065\n",
       "Name: positions, dtype: int64"
      ]
     },
     "execution_count": 11,
     "metadata": {},
     "output_type": "execute_result"
    }
   ],
   "source": [
    "(fifa['positions'] == 'GK').value_counts()"
   ]
  },
  {
   "cell_type": "markdown",
   "id": "4c85b8d7",
   "metadata": {},
   "source": [
    "## 5) What is the average age of players over 25 years of age?"
   ]
  },
  {
   "cell_type": "code",
   "execution_count": 12,
   "id": "b2a421aa",
   "metadata": {},
   "outputs": [
    {
     "data": {
      "text/plain": [
       "29.66460063150509"
      ]
     },
     "execution_count": 12,
     "metadata": {},
     "output_type": "execute_result"
    }
   ],
   "source": [
    "fifa.loc[fifa['age'] > 25, 'age'].mean()"
   ]
  },
  {
   "cell_type": "markdown",
   "id": "d711598a",
   "metadata": {},
   "source": [
    "## 6) what is the average height of players from India?\n"
   ]
  },
  {
   "cell_type": "code",
   "execution_count": 13,
   "id": "049f3bbb",
   "metadata": {},
   "outputs": [
    {
     "data": {
      "text/plain": [
       "nationality\n",
       "False    174.947531\n",
       "True     174.582667\n",
       "Name: height_cm, dtype: float64"
      ]
     },
     "execution_count": 13,
     "metadata": {},
     "output_type": "execute_result"
    }
   ],
   "source": [
    "fifa.groupby(fifa['nationality'] == 'India')['height_cm'].mean()"
   ]
  },
  {
   "cell_type": "code",
   "execution_count": 14,
   "id": "ff3b510e",
   "metadata": {},
   "outputs": [
    {
     "data": {
      "text/plain": [
       "174.58266666666665"
      ]
     },
     "execution_count": 14,
     "metadata": {},
     "output_type": "execute_result"
    }
   ],
   "source": [
    "fifa.loc[fifa['nationality'] == 'India', \"height_cm\"].mean()"
   ]
  },
  {
   "cell_type": "markdown",
   "id": "0675cf36",
   "metadata": {},
   "source": [
    " ## 7) Does the age of the player affect their overall player rating as they get older and reduce their working out sessions?"
   ]
  },
  {
   "cell_type": "code",
   "execution_count": 15,
   "id": "c6437aa4",
   "metadata": {},
   "outputs": [
    {
     "data": {
      "image/png": "[encoded data removed]",
      "text/plain": [
       "<Figure size 360x360 with 1 Axes>"
      ]
     },
     "metadata": {
      "needs_background": "light"
     },
     "output_type": "display_data"
    }
   ],
   "source": [
    "A_O  = sns.relplot( x = 'overall_rating', y = 'age' , data = fifa , kind = 'line' , sizes = (10,10))"
   ]
  },
  {
   "cell_type": "code",
   "execution_count": 16,
   "id": "d5af86b2",
   "metadata": {
    "scrolled": true
   },
   "outputs": [
    {
     "data": {
      "image/png": "[encoded data removed]",
      "text/plain": [
       "<Figure size 360x360 with 1 Axes>"
      ]
     },
     "metadata": {
      "needs_background": "light"
     },
     "output_type": "display_data"
    }
   ],
   "source": [
    "W_O = sns.relplot( x = 'overall_rating', y = 'weight_kgs' , data = fifa , kind = 'line' , sizes = (10,10))"
   ]
  },
  {
   "cell_type": "markdown",
   "id": "9f2bf5dd",
   "metadata": {},
   "source": [
    "## 8) How many players can play in atleast 3 different forward positions with ages below 28?\n"
   ]
  },
  {
   "cell_type": "code",
   "execution_count": 17,
   "id": "1c277376",
   "metadata": {},
   "outputs": [
    {
     "data": {
      "text/html": [
       "<div>\n",
       "<style scoped>\n",
       "    .dataframe tbody tr th:only-of-type {\n",
       "        vertical-align: middle;\n",
       "    }\n",
       "\n",
       "    .dataframe tbody tr th {\n",
       "        vertical-align: top;\n",
       "    }\n",
       "\n",
       "    .dataframe thead th {\n",
       "        text-align: right;\n",
       "    }\n",
       "</style>\n",
       "<table border=\"1\" class=\"dataframe\">\n",
       "  <thead>\n",
       "    <tr style=\"text-align: right;\">\n",
       "      <th></th>\n",
       "      <th>id</th>\n",
       "      <th>name</th>\n",
       "      <th>full_name</th>\n",
       "      <th>birth_date</th>\n",
       "      <th>age</th>\n",
       "      <th>height_cm</th>\n",
       "      <th>weight_kgs</th>\n",
       "      <th>positions</th>\n",
       "      <th>nationality</th>\n",
       "      <th>overall_rating</th>\n",
       "      <th>...</th>\n",
       "      <th>penalties</th>\n",
       "      <th>composure</th>\n",
       "      <th>marking</th>\n",
       "      <th>standing_tackle</th>\n",
       "      <th>sliding_tackle</th>\n",
       "      <th>GK_diving</th>\n",
       "      <th>GK_handling</th>\n",
       "      <th>GK_kicking</th>\n",
       "      <th>GK_positioning</th>\n",
       "      <th>GK_reflexes</th>\n",
       "    </tr>\n",
       "  </thead>\n",
       "  <tbody>\n",
       "    <tr>\n",
       "      <th>3083</th>\n",
       "      <td>230515</td>\n",
       "      <td>Vagnão Junior</td>\n",
       "      <td>Vágner Nilson Rosa Cadete</td>\n",
       "      <td>1992-02-29</td>\n",
       "      <td>27</td>\n",
       "      <td>172.72</td>\n",
       "      <td>62.1</td>\n",
       "      <td>ST,CF,LW</td>\n",
       "      <td>Brazil</td>\n",
       "      <td>64</td>\n",
       "      <td>...</td>\n",
       "      <td>64</td>\n",
       "      <td>66</td>\n",
       "      <td>17</td>\n",
       "      <td>32</td>\n",
       "      <td>31</td>\n",
       "      <td>9</td>\n",
       "      <td>16</td>\n",
       "      <td>15</td>\n",
       "      <td>8</td>\n",
       "      <td>8</td>\n",
       "    </tr>\n",
       "    <tr>\n",
       "      <th>4497</th>\n",
       "      <td>231606</td>\n",
       "      <td>A. Jakupović</td>\n",
       "      <td>Arnel Jakupović</td>\n",
       "      <td>1998-05-29</td>\n",
       "      <td>20</td>\n",
       "      <td>185.42</td>\n",
       "      <td>81.2</td>\n",
       "      <td>ST,CF,LW</td>\n",
       "      <td>Austria</td>\n",
       "      <td>56</td>\n",
       "      <td>...</td>\n",
       "      <td>62</td>\n",
       "      <td>48</td>\n",
       "      <td>28</td>\n",
       "      <td>25</td>\n",
       "      <td>20</td>\n",
       "      <td>14</td>\n",
       "      <td>15</td>\n",
       "      <td>6</td>\n",
       "      <td>6</td>\n",
       "      <td>11</td>\n",
       "    </tr>\n",
       "    <tr>\n",
       "      <th>8560</th>\n",
       "      <td>245762</td>\n",
       "      <td>A. Kutucu</td>\n",
       "      <td>Ahmed Kutucu</td>\n",
       "      <td>2000-03-01</td>\n",
       "      <td>19</td>\n",
       "      <td>154.94</td>\n",
       "      <td>76.2</td>\n",
       "      <td>ST,CF,RW</td>\n",
       "      <td>Turkey</td>\n",
       "      <td>62</td>\n",
       "      <td>...</td>\n",
       "      <td>51</td>\n",
       "      <td>48</td>\n",
       "      <td>23</td>\n",
       "      <td>19</td>\n",
       "      <td>19</td>\n",
       "      <td>11</td>\n",
       "      <td>9</td>\n",
       "      <td>9</td>\n",
       "      <td>14</td>\n",
       "      <td>14</td>\n",
       "    </tr>\n",
       "    <tr>\n",
       "      <th>9006</th>\n",
       "      <td>230499</td>\n",
       "      <td>Maicon Sampinho</td>\n",
       "      <td>Maicon Jackson Sampaio Coimbra</td>\n",
       "      <td>1992-02-29</td>\n",
       "      <td>27</td>\n",
       "      <td>154.94</td>\n",
       "      <td>81.2</td>\n",
       "      <td>ST,CF,RW</td>\n",
       "      <td>Brazil</td>\n",
       "      <td>63</td>\n",
       "      <td>...</td>\n",
       "      <td>71</td>\n",
       "      <td>65</td>\n",
       "      <td>19</td>\n",
       "      <td>21</td>\n",
       "      <td>24</td>\n",
       "      <td>13</td>\n",
       "      <td>10</td>\n",
       "      <td>7</td>\n",
       "      <td>13</td>\n",
       "      <td>8</td>\n",
       "    </tr>\n",
       "    <tr>\n",
       "      <th>11088</th>\n",
       "      <td>244391</td>\n",
       "      <td>F. Sakala</td>\n",
       "      <td>Fashion Sakala</td>\n",
       "      <td>1997-03-14</td>\n",
       "      <td>21</td>\n",
       "      <td>152.40</td>\n",
       "      <td>72.1</td>\n",
       "      <td>ST,CF,LW</td>\n",
       "      <td>Zambia</td>\n",
       "      <td>66</td>\n",
       "      <td>...</td>\n",
       "      <td>68</td>\n",
       "      <td>55</td>\n",
       "      <td>20</td>\n",
       "      <td>26</td>\n",
       "      <td>21</td>\n",
       "      <td>12</td>\n",
       "      <td>7</td>\n",
       "      <td>11</td>\n",
       "      <td>11</td>\n",
       "      <td>13</td>\n",
       "    </tr>\n",
       "    <tr>\n",
       "      <th>12951</th>\n",
       "      <td>232775</td>\n",
       "      <td>A. Esaka</td>\n",
       "      <td>江坂 任</td>\n",
       "      <td>1992-05-31</td>\n",
       "      <td>26</td>\n",
       "      <td>175.26</td>\n",
       "      <td>67.1</td>\n",
       "      <td>ST,CF,LM,RW</td>\n",
       "      <td>Japan</td>\n",
       "      <td>68</td>\n",
       "      <td>...</td>\n",
       "      <td>48</td>\n",
       "      <td>54</td>\n",
       "      <td>31</td>\n",
       "      <td>30</td>\n",
       "      <td>29</td>\n",
       "      <td>6</td>\n",
       "      <td>9</td>\n",
       "      <td>9</td>\n",
       "      <td>5</td>\n",
       "      <td>12</td>\n",
       "    </tr>\n",
       "    <tr>\n",
       "      <th>17103</th>\n",
       "      <td>234236</td>\n",
       "      <td>P. Schick</td>\n",
       "      <td>Patrik Schick</td>\n",
       "      <td>1996-01-24</td>\n",
       "      <td>23</td>\n",
       "      <td>185.42</td>\n",
       "      <td>73.0</td>\n",
       "      <td>ST,CF,RW</td>\n",
       "      <td>Czech Republic</td>\n",
       "      <td>77</td>\n",
       "      <td>...</td>\n",
       "      <td>58</td>\n",
       "      <td>74</td>\n",
       "      <td>50</td>\n",
       "      <td>24</td>\n",
       "      <td>19</td>\n",
       "      <td>11</td>\n",
       "      <td>15</td>\n",
       "      <td>8</td>\n",
       "      <td>9</td>\n",
       "      <td>14</td>\n",
       "    </tr>\n",
       "  </tbody>\n",
       "</table>\n",
       "<p>7 rows × 64 columns</p>\n",
       "</div>"
      ],
      "text/plain": [
       "           id             name                       full_name  birth_date  \\\n",
       "3083   230515    Vagnão Junior       Vágner Nilson Rosa Cadete  1992-02-29   \n",
       "4497   231606     A. Jakupović                 Arnel Jakupović  1998-05-29   \n",
       "8560   245762        A. Kutucu                    Ahmed Kutucu  2000-03-01   \n",
       "9006   230499  Maicon Sampinho  Maicon Jackson Sampaio Coimbra  1992-02-29   \n",
       "11088  244391        F. Sakala                  Fashion Sakala  1997-03-14   \n",
       "12951  232775         A. Esaka                            江坂 任  1992-05-31   \n",
       "17103  234236        P. Schick                   Patrik Schick  1996-01-24   \n",
       "\n",
       "       age  height_cm  weight_kgs    positions     nationality  \\\n",
       "3083    27     172.72        62.1     ST,CF,LW          Brazil   \n",
       "4497    20     185.42        81.2     ST,CF,LW         Austria   \n",
       "8560    19     154.94        76.2     ST,CF,RW          Turkey   \n",
       "9006    27     154.94        81.2     ST,CF,RW          Brazil   \n",
       "11088   21     152.40        72.1     ST,CF,LW          Zambia   \n",
       "12951   26     175.26        67.1  ST,CF,LM,RW           Japan   \n",
       "17103   23     185.42        73.0     ST,CF,RW  Czech Republic   \n",
       "\n",
       "       overall_rating  ...  penalties  composure  marking standing_tackle  \\\n",
       "3083               64  ...         64         66       17              32   \n",
       "4497               56  ...         62         48       28              25   \n",
       "8560               62  ...         51         48       23              19   \n",
       "9006               63  ...         71         65       19              21   \n",
       "11088              66  ...         68         55       20              26   \n",
       "12951              68  ...         48         54       31              30   \n",
       "17103              77  ...         58         74       50              24   \n",
       "\n",
       "       sliding_tackle  GK_diving  GK_handling GK_kicking GK_positioning  \\\n",
       "3083               31          9           16         15              8   \n",
       "4497               20         14           15          6              6   \n",
       "8560               19         11            9          9             14   \n",
       "9006               24         13           10          7             13   \n",
       "11088              21         12            7         11             11   \n",
       "12951              29          6            9          9              5   \n",
       "17103              19         11           15          8              9   \n",
       "\n",
       "       GK_reflexes  \n",
       "3083             8  \n",
       "4497            11  \n",
       "8560            14  \n",
       "9006             8  \n",
       "11088           13  \n",
       "12951           12  \n",
       "17103           14  \n",
       "\n",
       "[7 rows x 64 columns]"
      ]
     },
     "execution_count": 17,
     "metadata": {},
     "output_type": "execute_result"
    }
   ],
   "source": [
    "fifa.loc[((fifa['positions'] == 'ST,CF,RW') | (fifa['positions'] == 'ST,CF,LW') | (fifa['positions'] == 'ST,CF,LM,RW')) \n",
    "         & (fifa['age'] < 28) ]"
   ]
  },
  {
   "cell_type": "markdown",
   "id": "bf12a5de",
   "metadata": {},
   "source": [
    "##  9) If a Club Manager wants to know whether each player is available to play or not, Display different players based on the continent they are from.\n",
    "\n"
   ]
  },
  {
   "cell_type": "code",
   "execution_count": 18,
   "id": "d8d62e87",
   "metadata": {},
   "outputs": [],
   "source": [
    "Asia = fifa.loc[(fifa['nationality'] == 'China PR') | (fifa['nationality'] == 'India') | (fifa['nationality'] == 'Indonesia') | (fifa['nationality'] == 'Japan') | \n",
    "                (fifa['nationality'] == 'Philippines') | (fifa['nationality'] == 'Vietnam') | (fifa['nationality'] == 'Turkey') | (fifa['nationality'] == 'Iran') | \n",
    "         (fifa['nationality'] == 'Thailand') | (fifa['nationality'] == 'Korea DPR') | (fifa['nationality'] == 'Korea Republic') | \n",
    "                (fifa['nationality'] == 'Iraq') | (fifa['nationality'] == 'Afghanistan') | (fifa['nationality'] == 'Saudi Arabia') | (fifa['nationality'] == 'Uzbekistan') | (fifa['nationality'] == 'Yemen') | (fifa['nationality'] == 'Kazakhstan')\n",
    "         | (fifa['nationality'] == 'Syria') | (fifa['nationality'] == 'Jordan') | (fifa['nationality'] == 'Azerbaijan') | (fifa['nationality'] == 'United Arab Emirates') | (fifa['nationality'] == 'Israel') | (fifa['nationality'] == 'Palestine') \n",
    "                | (fifa['nationality'] == 'Oman') | (fifa['nationality'] == 'Kuwait') | (fifa['nationality'] == 'Georgia') | (fifa['nationality'] == 'Armenia') | (fifa['nationality'] == 'Cyprus') | (fifa['nationality'] == 'Hong Kong')]\n",
    "         "
   ]
  },
  {
   "cell_type": "code",
   "execution_count": 19,
   "id": "a88a3143",
   "metadata": {},
   "outputs": [],
   "source": [
    "Europe = fifa.loc[(fifa['nationality'] == 'Russia') | (fifa['nationality'] == 'Germany') | (fifa['nationality'] == 'England') | (fifa['nationality'] == 'France') | (fifa['nationality'] == 'Italy') | \n",
    "                 (fifa['nationality'] == 'Spain') | (fifa['nationality'] == 'Ukraine') | (fifa['nationality'] == 'Poland') | (fifa['nationality'] == 'Romania') |\n",
    "                 (fifa['nationality'] == 'Netherlands') | (fifa['nationality'] == 'Belgium') | (fifa['nationality'] == 'Czech Republic') | (fifa['nationality'] == 'Greece') | (fifa['nationality'] == 'Portugal') |\n",
    "                 (fifa['nationality'] == 'Sweden') | (fifa['nationality'] == 'Hungary') | (fifa['nationality'] == 'Belarus') | (fifa['nationality'] == 'Austria') | (fifa['nationality'] == 'Serbia') |\n",
    "                 (fifa['nationality'] == 'Switzerland') | (fifa['nationality'] == 'Bulgaria') | (fifa['nationality'] == 'Denmark') | (fifa['nationality'] == 'Finland') | (fifa['nationality'] == 'Slovakia') |\n",
    "                 (fifa['nationality'] == 'Slovenia') | (fifa['nationality'] == 'Norway') | (fifa['nationality'] == 'Northern Ireland') | (fifa['nationality'] == 'Republic of Ireland') | (fifa['nationality'] == 'Croatia') |\n",
    "                 (fifa['nationality'] == 'Moldova') | (fifa['nationality'] == 'Bosnia Herzegovina') | (fifa['nationality'] == 'Albania') | (fifa['nationality'] == 'Lithuania') | (fifa['nationality'] == 'FYR Macedonia') |\n",
    "                (fifa['nationality'] == 'Latvia') | (fifa['nationality'] == 'Estonia') | (fifa['nationality'] == 'Montenegro') | (fifa['nationality'] == 'Luxembourg') | (fifa['nationality'] == 'Malta') | (fifa['nationality'] == 'Iceland') |\n",
    "                  (fifa['nationality'] == 'Andorra') | (fifa['nationality'] == 'Liechtenstein') | (fifa['nationality'] == 'Faroe Islands') | (fifa['nationality'] == 'Wales') | (fifa['nationality'] == 'Serbia')]"
   ]
  },
  {
   "cell_type": "code",
   "execution_count": 20,
   "id": "8658a3f0",
   "metadata": {},
   "outputs": [],
   "source": [
    "Australia = fifa.loc[(fifa['nationality'] == 'Australia') | (fifa['nationality'] == 'Papua New Guinea') | (fifa['nationality'] == 'New Zealand') | (fifa['nationality'] == 'Fiji') |\n",
    "                    (fifa['nationality'] == 'New Caledonia') | (fifa['nationality'] == 'Guam')]"
   ]
  },
  {
   "cell_type": "code",
   "execution_count": 21,
   "id": "63f15bf7",
   "metadata": {},
   "outputs": [],
   "source": [
    "Africa = fifa.loc[(fifa['nationality'] == 'Nigeria') | (fifa['nationality'] == 'Ethiopia') | (fifa['nationality'] == 'Egypt') | (fifa['nationality'] == 'DR Congo') | (fifa['nationality'] == 'Tanzania') | (fifa['nationality'] == 'South Africa') | (fifa['nationality'] == 'Kenya') | (fifa['nationality'] == 'Uganda') | (fifa['nationality'] == 'Algeria') | (fifa['nationality'] == 'Sudan') | (fifa['nationality'] == 'South Sudan') | (fifa['nationality'] == 'Morocco') |  (fifa['nationality'] == 'Angola') | (fifa['nationality'] == 'Mozambique') | (fifa['nationality'] == 'Ghana') | (fifa['nationality'] == 'Madagascar') | (fifa['nationality'] == 'Cameroon') | (fifa['nationality'] == 'Burkina Faso') | (fifa['nationality'] == 'Mali') | (fifa['nationality'] == 'Zambia') | (fifa['nationality'] == 'Senegal') | (fifa['nationality'] == 'Chad') | (fifa['nationality'] == 'Zimbabwe') | (fifa['nationality'] == 'Guinea') | (fifa['nationality'] == 'Rwanda') | (fifa['nationality'] == 'Benin') | (fifa['nationality'] == 'Burundi') | (fifa['nationality'] == 'Tunisia') | (fifa['nationality'] == 'Togo') |(fifa['nationality'] == 'Sierra Leone') | (fifa['nationality'] == 'Libya') | (fifa['nationality'] == 'Congo') | (fifa['nationality'] == 'Liberia') | (fifa['nationality'] == 'Central African Rep.') |(fifa['nationality'] == 'Mauritania') | (fifa['nationality'] == 'Eritrea') | (fifa['nationality'] == 'Namibia') | (fifa['nationality'] == 'Gambia') | (fifa['nationality'] == 'Cameroon') | (fifa['nationality'] == 'Gabon') | (fifa['nationality'] == 'Lesotho') | (fifa['nationality'] == 'Guinea Bissau') | (fifa['nationality'] == 'Equatorial Guinea') | (fifa['nationality'] == 'Comoros')] "
   ]
  },
  {
   "cell_type": "code",
   "execution_count": 22,
   "id": "45094966",
   "metadata": {},
   "outputs": [],
   "source": [
    "North_America = fifa.loc[(fifa['nationality'] == 'Antigua & Barbuda') | (fifa['nationality'] == 'Barbados') | (fifa['nationality'] == 'Canada') | (fifa['nationality'] == 'Costa Rica') |\n",
    "                        (fifa['nationality'] == 'Cuba') | (fifa['nationality'] == 'Dominican Republic') | (fifa['nationality'] == 'El Salvador') | (fifa['nationality'] == 'Grenada') |\n",
    "                        (fifa['nationality'] == 'Guatemala') | (fifa['nationality'] == 'Haiti') | (fifa['nationality'] == 'Honduras') | (fifa['nationality'] == 'Jamaica') |(fifa['nationality'] == 'Mexico') |\n",
    "                        (fifa['nationality'] == 'Nicaragua') | (fifa['nationality'] == 'Panama') | (fifa['nationality'] == 'Trinidad & Tobago') | (fifa['nationality'] == 'United States') |\n",
    "                        (fifa['nationality'] == 'Bermuda') | (fifa['nationality'] == 'Curacao') | (fifa['nationality'] == 'Montserrat') | (fifa['nationality'] == 'Barbados')]"
   ]
  },
  {
   "cell_type": "code",
   "execution_count": 23,
   "id": "47b0d711",
   "metadata": {},
   "outputs": [],
   "source": [
    "South_America = fifa.loc[(fifa['nationality'] == 'Argentina') | (fifa['nationality'] == 'Bolivia') | (fifa['nationality'] == 'Brazil') | (fifa['nationality'] == 'Chile') |\n",
    "                        (fifa['nationality'] == 'Colombia') | (fifa['nationality'] == 'Ecuador') | (fifa['nationality'] == 'Guyana') | (fifa['nationality'] == 'Paraguay') | \n",
    "                        (fifa['nationality'] == 'Peru') | (fifa['nationality'] == 'Suriname') | (fifa['nationality'] == 'Uruguay') | (fifa['nationality'] == 'Venezuela')]"
   ]
  },
  {
   "cell_type": "code",
   "execution_count": null,
   "id": "70eb9572",
   "metadata": {},
   "outputs": [],
   "source": [
    "a = str(input('Enter the Name of the Continent '))\n",
    "\n",
    "if a == 'Asia' :\n",
    "    \n",
    "    display(Asia)\n",
    "    \n",
    "elif a == 'Europe' :\n",
    "    \n",
    "    display(Europe)\n",
    "\n",
    "elif a == 'Australia' :\n",
    "    \n",
    "    display(Australia)\n",
    "    \n",
    "elif a == 'Africa' :\n",
    "    \n",
    "    display(Africa)\n",
    "    \n",
    "elif a == 'North America' :\n",
    "    \n",
    "    display(North_America)\n",
    "    \n",
    "elif a == 'South America' :\n",
    "    \n",
    "    display(South_America)\n",
    "    \n",
    "elif a == 'Antartica' :\n",
    "    \n",
    "    print('No Records Found')\n",
    "    \n",
    "else :\n",
    "    \n",
    "    print('Please make sure that the first letter of the continent is a capital letter')\n",
    "    "
   ]
  },
  {
   "cell_type": "code",
   "execution_count": null,
   "id": "c0950bc1",
   "metadata": {},
   "outputs": [],
   "source": []
  }
 ],
 "metadata": {
  "kernelspec": {
   "display_name": "Python 3 (ipykernel)",
   "language": "python",
   "name": "python3"
  },
  "language_info": {
   "codemirror_mode": {
    "name": "ipython",
    "version": 3
   },
   "file_extension": ".py",
   "mimetype": "text/x-python",
   "name": "python",
   "nbconvert_exporter": "python",
   "pygments_lexer": "ipython3",
   "version": "3.9.7"
  }
 },
 "nbformat": 4,
 "nbformat_minor": 5
}
